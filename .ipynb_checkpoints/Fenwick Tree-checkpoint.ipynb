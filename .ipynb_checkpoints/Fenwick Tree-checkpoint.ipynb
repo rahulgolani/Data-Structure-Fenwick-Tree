{
 "cells": [
  {
   "cell_type": "markdown",
   "metadata": {},
   "source": [
    "# Fenwick Tree | Binary Indexed Tree"
   ]
  },
  {
   "cell_type": "markdown",
   "metadata": {},
   "source": [
    "Let us consider the following problem to understand Binary Indexed Tree.\n",
    "We have an array arr[0 . . . n-1]. We would like to \n",
    "\n",
    "1 Compute the sum of the first i elements. \n",
    "\n",
    "2 Modify the value of a specified element of the array arr[i] = x where 0 <= i <= n-1."
   ]
  },
  {
   "cell_type": "markdown",
   "metadata": {},
   "source": [
    "A simple solution is to run a loop from 0 to i-1 and calculate the sum of the elements. To update a value, simply do arr[i] = x. The first operation takes O(n) time and the second operation takes O(1) time. \n",
    "\n",
    "Another simple solution is to create an extra array and store the sum of the first i-th elements at the i-th index in this new array. The sum of a given range can now be calculated in O(1) time, but the update operation takes O(n) time now. This works well if there are a large number of query operations but a very few number of update operations."
   ]
  },
  {
   "cell_type": "markdown",
   "metadata": {},
   "source": [
    "**Using Fenwick Tree, we can perform these operations in O(logn) time**"
   ]
  },
  {
   "cell_type": "markdown",
   "metadata": {},
   "source": [
    "**Representation** \n",
    "\n",
    "Binary Indexed Tree is represented as an array. Let the array be BITree[]. Each node of the Binary Indexed Tree stores the sum of some elements of the input array. The size of the Binary Indexed Tree is equal to the size of the input array, denoted as n. In the code below, we use a size of n+1 for ease of implementation."
   ]
  },
  {
   "cell_type": "markdown",
   "metadata": {},
   "source": [
    "**Construction**\n",
    "\n",
    "We initialize all the values in BITree[] as 0. Then we call update() for all the indexes, the update() operation is discussed below."
   ]
  },
  {
   "cell_type": "markdown",
   "metadata": {},
   "source": [
    "**Operations**\n",
    " \n",
    "getSum(x): Returns the sum of the sub-array arr[0,…,x] \n",
    "// Returns the sum of the sub-array arr[0,…,x] using BITree[0..n], which is constructed from arr[0..n-1] \n",
    "\n",
    "1) Initialize the output sum as 0, the current index as x+1. \n",
    "\n",
    "2) Do following while the current index is greater than 0. \n",
    "\n",
    "…a) Add BITree[index] to sum \n",
    "\n",
    "…b) Go to the parent of BITree[index]. The parent can be obtained by removing \n",
    "the last set bit from the current index, i.e., index = index – (index & (-index)) \n",
    "\n",
    "3) Return sum."
   ]
  },
  {
   "cell_type": "markdown",
   "metadata": {},
   "source": [
    "update(x, val): Updates the Binary Indexed Tree (BIT) by performing arr[index] += val \n",
    "\n",
    "// Note that the update(x, val) operation will not change arr[]. It only makes changes to BITree[] \n",
    "\n",
    "1) Initialize the current index as x+1. \n",
    "\n",
    "2) Do the following while the current index is smaller than or equal to n. \n",
    "\n",
    "…a) Add the val to BITree[index] \n",
    "\n",
    "…b) Go to parent of BITree[index]. The parent can be obtained by incrementing the last set bit of the current index, i.e., index = index + (index & (-index))"
   ]
  },
  {
   "cell_type": "markdown",
   "metadata": {},
   "source": [
    "**How does Binary Indexed Tree work?**\n",
    "\n",
    "The idea is based on the fact that all positive integers can be represented as the sum of powers of 2. For example 19 can be represented as 16 + 2 + 1. Every node of the BITree stores the sum of n elements where n is a power of 2. For example, the sum of the first 12 elements can be obtained by the sum of the last 4 elements (from 9 to 12) plus the sum of 8 elements (from 1 to 8). The number of set bits in the binary representation of a number n is O(Logn). Therefore, we traverse at-most O(Logn) nodes in both getSum() and update() operations. The time complexity of the construction is O(nLogn) as it calls update() for all n elements. "
   ]
  },
  {
   "cell_type": "code",
   "execution_count": 3,
   "metadata": {},
   "outputs": [
    {
     "name": "stdout",
     "output_type": "stream",
     "text": [
      "[0, 2, 3, 1, 7, 2, 5, 4, 21, 6, 13, 8, 30]\n",
      "12\n",
      "18\n"
     ]
    }
   ],
   "source": [
    "def getBITree(bTree,i):\n",
    "    i+=1\n",
    "    s=0\n",
    "    while i>0:\n",
    "        s+=bTree[i]\n",
    "        i-=i&(-i)\n",
    "    return s\n",
    "\n",
    "def updateBITree(bTree,i,value,n):\n",
    "    i+=1\n",
    "    while i<=n:\n",
    "        bTree[i]+=value\n",
    "        i+=i&(-i)\n",
    "\n",
    "def constructTree(arr,n):\n",
    "    bTree=[0]*(n+1)\n",
    "    for i in range(n):\n",
    "        updateBITree(bTree,i,arr[i],n)\n",
    "    return bTree\n",
    "\n",
    "if __name__ == '__main__':\n",
    "    arr=[2, 1, 1, 3, 2, 3, 4, 5, 6, 7, 8, 9]\n",
    "    BITree=constructTree(arr,len(arr))\n",
    "    print(BITree)\n",
    "    print(getBITree(BITree,5))\n",
    "    arr[3]+=6\n",
    "    updateBITree(BITree, 3, 6, len(arr))\n",
    "    print(getBITree(BITree,5))\n"
   ]
  },
  {
   "cell_type": "markdown",
   "metadata": {},
   "source": [
    "**Can we extend the Binary Indexed Tree to computing the sum of a range in O(Logn) time?** \n",
    "\n",
    "Yes. rangeSum(l, r) = getSum(r) – getSum(l-1)."
   ]
  },
  {
   "cell_type": "markdown",
   "metadata": {},
   "source": [
    "# Binary Indexed Tree : Range Updates and Point Queries"
   ]
  },
  {
   "cell_type": "markdown",
   "metadata": {},
   "source": [
    "Given an array arr[0..n-1]. The following operations need to be performed.\n",
    "\n",
    "update(l, r, val) : Add ‘val’ to all the elements in the array from [l, r].\n",
    "\n",
    "getElement(i) : Find element in the array indexed at ‘i’.\n",
    "Initially all the elements in the array are 0. Queries can be in any order, i.e., there can be many updates before point query."
   ]
  },
  {
   "cell_type": "markdown",
   "metadata": {},
   "source": [
    "**Why to add val to lth index? Adding val to lth index means that all the elements after l are increased by val, since we will be computing the prefix sum for every element. Why to subtract val from (r+1)th index? A range update was required from [l,r] but what we have updated is [l, n-1] so we need to remove val from all the elements after r i.e., subtract val from (r+1)th index. Thus the val is added to range [l,r].**"
   ]
  },
  {
   "cell_type": "code",
   "execution_count": 4,
   "metadata": {},
   "outputs": [
    {
     "name": "stdout",
     "output_type": "stream",
     "text": [
      "2\n",
      "6\n"
     ]
    }
   ],
   "source": [
    "def updateBITree(bTree,i,value,n):\n",
    "    i+=1\n",
    "    while i<=n:\n",
    "        bTree[i]+=value\n",
    "        i+=i&(-i)\n",
    "\n",
    "def constructTree(arr,n):\n",
    "    bTree=[0]*(n+1)\n",
    "    for i in range(n):\n",
    "        updateBITree(bTree,i,arr[i],n)\n",
    "    return bTree\n",
    "\n",
    "def getElement(bTree,i):\n",
    "    i+=1\n",
    "    s=0\n",
    "    while i>0:\n",
    "        s+=bTree[i]\n",
    "        i-=i&(-i)\n",
    "    return s\n",
    "\n",
    "def updateBITreeRange(bTree,l,r,value,n):\n",
    "    updateBITree(bTree, l, value, n)\n",
    "    updateBITree(bTree, r+1, -value, n)\n",
    "\n",
    "if __name__ == '__main__':\n",
    "    arr=[0,0,0,0,0]\n",
    "    n=len(arr)\n",
    "    BITree=constructTree(arr,n)\n",
    "    l=2\n",
    "    r=4\n",
    "    value=2\n",
    "    updateBITreeRange(BITree, l, r, value, n)\n",
    "    index=4\n",
    "    print(getElement(BITree,index))\n",
    "    l=0\n",
    "    r=3\n",
    "    value=4\n",
    "    updateBITreeRange(BITree, l, r, value, n)\n",
    "    index=3\n",
    "    print(getElement(BITree,index))\n"
   ]
  },
  {
   "cell_type": "markdown",
   "metadata": {},
   "source": [
    "Time Complexity : O(q * log n) + O(n * log n) where q is number of queries."
   ]
  },
  {
   "cell_type": "code",
   "execution_count": null,
   "metadata": {},
   "outputs": [],
   "source": []
  }
 ],
 "metadata": {
  "kernelspec": {
   "display_name": "Python 3",
   "language": "python",
   "name": "python3"
  },
  "language_info": {
   "codemirror_mode": {
    "name": "ipython",
    "version": 3
   },
   "file_extension": ".py",
   "mimetype": "text/x-python",
   "name": "python",
   "nbconvert_exporter": "python",
   "pygments_lexer": "ipython3",
   "version": "3.7.6"
  }
 },
 "nbformat": 4,
 "nbformat_minor": 4
}
